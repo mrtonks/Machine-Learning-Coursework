{
 "cells": [
  {
   "cell_type": "code",
   "execution_count": 30,
   "metadata": {},
   "outputs": [],
   "source": [
    "# Multiple Linear Regression\n",
    "# Importing the libraries\n",
    "import numpy as np # Maths\n",
    "import matplotlib.pyplot as plt # Plot charts\n",
    "import pandas as pd # Import/manage datasets\n",
    "from sklearn.linear_model import LinearRegression\n",
    "from sklearn.pipeline import make_pipeline\n",
    "from sklearn.preprocessing import PolynomialFeatures\n",
    "import seaborn as sns\n",
    "\n",
    "\n",
    "# Importing the datasets\n",
    "# Train datasets\n",
    "X_train = np.array(pd.read_csv('../../Data/Regression Models/X_train.csv'))\n",
    "y_train = np.array(pd.read_csv('../../Data/Regression Models/y_train.csv'))\n",
    "\n",
    "# X_train[X_train.argsort()]\n",
    "\n",
    "#X_train = X_train[:, :4]\n",
    "y_train = y_train[:, 1]\n",
    "\n",
    "# Test datasets\n",
    "X_test = np.array(pd.read_csv('../../Data/Regression Models/X_test.csv'))\n",
    "\n",
    "\n",
    "# X_train = (X_train - np.mean(X_train))/np.std(X_train)\n",
    "# X_test = (X_test - np.mean(X_test))/np.std(X_test)\n"
   ]
  },
  {
   "cell_type": "code",
   "execution_count": 57,
   "metadata": {},
   "outputs": [],
   "source": [
    "model = make_pipeline(PolynomialFeatures(degree=2, include_bias=False), LinearRegression(normalize=True))\n",
    "model.fit(X_train, y_train)\n",
    "\n",
    "y_pred = model.predict(X_train)"
   ]
  },
  {
   "cell_type": "code",
   "execution_count": 64,
   "metadata": {
    "scrolled": false
   },
   "outputs": [
    {
     "data": {
      "image/png": "[encoded data removed]",
      "text/plain": [
       "<matplotlib.figure.Figure at 0x1d94b7ab0f0>"
      ]
     },
     "metadata": {},
     "output_type": "display_data"
    }
   ],
   "source": [
    "columns = ['MYCT', 'MMIN', 'MMAX', 'CACH', 'CHMIN', 'CHMAX']\n",
    "\n",
    "fig = plt.figure(figsize=(10, 10))\n",
    "\n",
    "for i in range((X_train.shape[1])):\n",
    "    ax = fig.add_subplot(2, 3, i+1)\n",
    "    ax.scatter(X_train[:, i], y_train)\n",
    "#     ax.scatter(X_train[:, i], y_pred, color='r', alpha=0.2)\n",
    "    ax.set_xlabel(columns[i])"
   ]
  },
  {
   "cell_type": "code",
   "execution_count": null,
   "metadata": {},
   "outputs": [],
   "source": []
  },
  {
   "cell_type": "code",
   "execution_count": 8,
   "metadata": {},
   "outputs": [
    {
     "data": {
      "text/html": [
       "<div>\n",
       "<style scoped>\n",
       "    .dataframe tbody tr th:only-of-type {\n",
       "        vertical-align: middle;\n",
       "    }\n",
       "\n",
       "    .dataframe tbody tr th {\n",
       "        vertical-align: top;\n",
       "    }\n",
       "\n",
       "    .dataframe thead th {\n",
       "        text-align: right;\n",
       "    }\n",
       "</style>\n",
       "<table border=\"1\" class=\"dataframe\">\n",
       "  <thead>\n",
       "    <tr style=\"text-align: right;\">\n",
       "      <th></th>\n",
       "      <th>MYCT</th>\n",
       "      <th>MMIN</th>\n",
       "      <th>MMAX</th>\n",
       "      <th>CACH</th>\n",
       "      <th>CHMIN</th>\n",
       "      <th>CHMAX</th>\n",
       "    </tr>\n",
       "  </thead>\n",
       "  <tbody>\n",
       "    <tr>\n",
       "      <th>0</th>\n",
       "      <td>125</td>\n",
       "      <td>256</td>\n",
       "      <td>6000</td>\n",
       "      <td>256</td>\n",
       "      <td>16</td>\n",
       "      <td>128</td>\n",
       "    </tr>\n",
       "    <tr>\n",
       "      <th>1</th>\n",
       "      <td>29</td>\n",
       "      <td>8000</td>\n",
       "      <td>32000</td>\n",
       "      <td>32</td>\n",
       "      <td>8</td>\n",
       "      <td>32</td>\n",
       "    </tr>\n",
       "    <tr>\n",
       "      <th>2</th>\n",
       "      <td>29</td>\n",
       "      <td>8000</td>\n",
       "      <td>32000</td>\n",
       "      <td>32</td>\n",
       "      <td>8</td>\n",
       "      <td>32</td>\n",
       "    </tr>\n",
       "    <tr>\n",
       "      <th>3</th>\n",
       "      <td>29</td>\n",
       "      <td>8000</td>\n",
       "      <td>32000</td>\n",
       "      <td>32</td>\n",
       "      <td>8</td>\n",
       "      <td>32</td>\n",
       "    </tr>\n",
       "    <tr>\n",
       "      <th>4</th>\n",
       "      <td>26</td>\n",
       "      <td>8000</td>\n",
       "      <td>32000</td>\n",
       "      <td>64</td>\n",
       "      <td>8</td>\n",
       "      <td>32</td>\n",
       "    </tr>\n",
       "  </tbody>\n",
       "</table>\n",
       "</div>"
      ],
      "text/plain": [
       "   MYCT  MMIN   MMAX  CACH  CHMIN  CHMAX\n",
       "0   125   256   6000   256     16    128\n",
       "1    29  8000  32000    32      8     32\n",
       "2    29  8000  32000    32      8     32\n",
       "3    29  8000  32000    32      8     32\n",
       "4    26  8000  32000    64      8     32"
      ]
     },
     "execution_count": 8,
     "metadata": {},
     "output_type": "execute_result"
    }
   ],
   "source": [
    "X_train.head()"
   ]
  },
  {
   "cell_type": "code",
   "execution_count": null,
   "metadata": {
    "scrolled": true
   },
   "outputs": [],
   "source": [
    "from sklearn.linear_model import LinearRegression\n",
    "train_copy = train[['MYCT', 'MMIN','MMAX','CACH', 'CHMIN', 'CHMAX']]\n",
    "train_copy =pd.get_dummies(train_copy)\n",
    "train_copy=train_copy.fillna(0)\n",
    "linear_regr_test = LinearRegression()\n",
    "\n",
    "fig, axes = plt.subplots(1,len(train_copy.columns.values),sharey=True,constrained_layout=True,figsize=(30,15))\n",
    "\n",
    "for i,e in enumerate(train_copy.columns):\n",
    "  linear_regr_test.fit(train_copy[e].values[:,np.newaxis], y.values)\n",
    "  axes[i].set_title(\"Best fit line\")\n",
    "  axes[i].set_xlabel(str(e))\n",
    "  axes[i].set_ylabel('SalePrice')\n",
    "  axes[i].scatter(train_copy[e].values[:,np.newaxis], y,color='g')\n",
    "  axes[i].plot(train_copy[e].values[:,np.newaxis], \n",
    "  linear_regr_test.predict(train_copy[e].values[:,np.newaxis]),color='k')"
   ]
  },
  {
   "cell_type": "code",
   "execution_count": null,
   "metadata": {},
   "outputs": [],
   "source": []
  }
 ],
 "metadata": {
  "kernelspec": {
   "display_name": "Python 3",
   "language": "python",
   "name": "python3"
  },
  "language_info": {
   "codemirror_mode": {
    "name": "ipython",
    "version": 3
   },
   "file_extension": ".py",
   "mimetype": "text/x-python",
   "name": "python",
   "nbconvert_exporter": "python",
   "pygments_lexer": "ipython3",
   "version": "3.6.4"
  }
 },
 "nbformat": 4,
 "nbformat_minor": 2
}
